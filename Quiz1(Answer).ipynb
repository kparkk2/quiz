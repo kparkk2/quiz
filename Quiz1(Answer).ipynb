{
 "cells": [
  {
   "cell_type": "markdown",
   "metadata": {
    "colab_type": "text",
    "id": "view-in-github"
   },
   "source": [
    "<a href=\"https://colab.research.google.com/github/kparkk2/quiz/blob/master/Quiz1.ipynb\" target=\"_parent\"><img src=\"https://colab.research.google.com/assets/colab-badge.svg\" alt=\"Open In Colab\"/></a>"
   ]
  },
  {
   "cell_type": "markdown",
   "metadata": {
    "colab_type": "text",
    "id": "Vvl57oWh_YhV"
   },
   "source": [
    "#1. 피라미드 그리기\n",
    "\n",
    "텍스트로도 간단한 피라미드를 그릴 수 있다. 별모양(*)과 빈칸만 있으면 간단하다.\n",
    "\n",
    "4층짜리 피라미드 예시는 이렇다.\n",
    "\n",
    "```\n",
    "   *\n",
    "  ***\n",
    " *****\n",
    "*******\n",
    "```\n",
    "\n",
    "1층은 별 7개, 2층은 별 5개… 꼭대기는 별 1개로 고정된다.\n",
    "\n",
    "피라미드의 층수가 N으로 주어졌을 때(N>0) N층짜리 피라미드를 출력(print)하는 코드를 만들어보자.\n",
    "\n",
    "코드는 하나의 함수로 완성해야 한다."
   ]
  },
  {
   "cell_type": "markdown",
   "metadata": {
    "colab_type": "text",
    "id": "s2zQ3G-4BnHs"
   },
   "source": [
    "### 코드 예시\n",
    "\n",
    "```\n",
    "def print_pyramid(N):\n",
    "  // 생략\n",
    "```"
   ]
  },
  {
   "cell_type": "markdown",
   "metadata": {
    "colab_type": "text",
    "id": "8a2MeF3UBd4O"
   },
   "source": [
    "### 실행 예시"
   ]
  },
  {
   "cell_type": "markdown",
   "metadata": {
    "colab_type": "text",
    "id": "g06cpw0Q0Bhg"
   },
   "source": [
    "```\n",
    "$ print_pyramid(8)\n",
    "0\t       *       \n",
    "1\t      ***      \n",
    "2\t     *****     \n",
    "3\t    *******    \n",
    "4\t   *********   \n",
    "5\t  ***********  \n",
    "6\t ************* \n",
    "7\t***************\n",
    "```"
   ]
  },
  {
   "cell_type": "markdown",
   "metadata": {},
   "source": [
    "### 정답 예시"
   ]
  },
  {
   "cell_type": "code",
   "execution_count": 1,
   "metadata": {
    "colab": {},
    "colab_type": "code",
    "id": "v7h3ikTgEQWE"
   },
   "outputs": [
    {
     "name": "stdout",
     "output_type": "stream",
     "text": [
      "       *       \n",
      "      ***      \n",
      "     *****     \n",
      "    *******    \n",
      "   *********   \n",
      "  ***********  \n",
      " ************* \n",
      "***************\n"
     ]
    }
   ],
   "source": [
    "def print_pyramid(N):\n",
    "    for i in range(N):\n",
    "        print(' ' * (N-i-1) + '*'*(2*i+1) + ' ' * (N-i-1))\n",
    "\n",
    "print_pyramid(8)"
   ]
  },
  {
   "cell_type": "code",
   "execution_count": null,
   "metadata": {},
   "outputs": [],
   "source": []
  },
  {
   "cell_type": "markdown",
   "metadata": {
    "colab_type": "text",
    "id": "HZfv7MffBuFO"
   },
   "source": [
    "# 2. 피보나치 수열 구하기\n",
    "\n",
    "피보나치 수열은 0, 1, 1, 2, 3, 5, 8, 13, 21, …와 같은 순서로 진행된다.\n",
    "\n",
    "이 수열에는 일정한 법칙이 있는데, 다음과 같은 식으로 나타낼 수 있다.\n",
    "\n",
    "\\begin{equation}\n",
    "F_0 = 0\\\\\n",
    "F_1 = 1\\\\\n",
    "F_n = F_{n-1} + F_{n-2} \\ (n \\geq 2)\n",
    "\\end{equation}\n",
    "\n",
    "즉 n번째 숫자는 n-1번째 수와 n-2번째 수를 더한 값이 된다.\n",
    "\n",
    "이제 N번째 피보나치 수를 구하는 함수를 직접 작성해보자.\n",
    "\n",
    "확인을 위해 F<sub>30</sub>을 구해볼 것. 정답은 832040이다."
   ]
  },
  {
   "cell_type": "markdown",
   "metadata": {
    "colab_type": "text",
    "id": "VSKq5gusCT4U"
   },
   "source": [
    "### 실행 예시"
   ]
  },
  {
   "cell_type": "markdown",
   "metadata": {
    "colab": {},
    "colab_type": "code",
    "id": "o3LjBnKwCVFn"
   },
   "source": [
    "```\n",
    "$ fibo(30)\n",
    "> 832040\n",
    "```"
   ]
  },
  {
   "cell_type": "markdown",
   "metadata": {},
   "source": [
    "### 정답 예시"
   ]
  },
  {
   "cell_type": "code",
   "execution_count": 2,
   "metadata": {
    "colab": {},
    "colab_type": "code",
    "id": "mzHOlEOm0AjR"
   },
   "outputs": [
    {
     "name": "stdout",
     "output_type": "stream",
     "text": [
      "832040 832040\n"
     ]
    }
   ],
   "source": [
    "# 정답1\n",
    "def fibo1(N):\n",
    "    if N <= 0:\n",
    "        return 0\n",
    "    elif N == 1:\n",
    "        return 1\n",
    "    else:\n",
    "        return fibo1(N-1) + fibo1(N-2)\n",
    "\n",
    "# 정답2\n",
    "fibos = [0, 1]\n",
    "\n",
    "def fibo2(N):\n",
    "    if len(fibos) - 1 < N:\n",
    "        for i in range(len(fibos), N+1):\n",
    "            fibos.append(fibos[i-1] + fibos[i-2])\n",
    "    return fibos[N]\n",
    "\n",
    "print(fibo1(30), fibo2(30))"
   ]
  },
  {
   "cell_type": "markdown",
   "metadata": {
    "colab_type": "text",
    "id": "Lf8E84APo_sw"
   },
   "source": [
    "# 3. 선수 이름, 결과 분류\n",
    "\n",
    "#### __* Dictionary, List,for loop까지 익힌 뒤에 하는 것을 추천__\n",
    "\n",
    "야구 문자 중계 텍스트를 읽어오고 분류하다보면, 타석 결과 텍스트를 읽고 판독하는 경우가 잦다.\n",
    "\n",
    "흔히 볼 수 있는 타석 결과 텍스트는 'OOO : 안타' 와 같은 것이다.\n",
    "\n",
    "당장은 어렵겠지만 먼 훗날(?) 이렇게 정리된 데이터를 직접 분류할 때가 온다고 상상해보며 간단한 예제를 수행해보자.\n",
    "\n",
    "아래 주어진 데이터는 `'선수 이름, 결과'` 형식으로 된 일련의 문자열 리스트다.\n",
    "\n",
    "이 리스트를 읽고 타석 결과를 선수 이름에 따라 묶고, 선수 별로 타석 결과가 몇 번씩 나오는지 직접 세어보자."
   ]
  },
  {
   "cell_type": "markdown",
   "metadata": {
    "colab_type": "text",
    "id": "qYB80qcIp58e"
   },
   "source": [
    "### 데이터 다운로드\n",
    "\n",
    "아래 두 코드 셀을 실행하면 `lines`라는 리스트에 결과 값이 들어간다."
   ]
  },
  {
   "cell_type": "code",
   "execution_count": null,
   "metadata": {
    "colab": {},
    "colab_type": "code",
    "id": "f8U3ZIdRDMOe"
   },
   "outputs": [],
   "source": [
    "!wget https://raw.githubusercontent.com/kparkk2/quiz/master/pars.csv"
   ]
  },
  {
   "cell_type": "code",
   "execution_count": 3,
   "metadata": {
    "colab": {},
    "colab_type": "code",
    "id": "kPv2IOFADOIR"
   },
   "outputs": [
    {
     "data": {
      "text/plain": [
       "['이대호,삼진',\n",
       " '로맥,볼넷',\n",
       " '로맥,홈런',\n",
       " '로맥,볼넷',\n",
       " '로맥,삼진',\n",
       " '로맥,삼진',\n",
       " '강백호,삼진',\n",
       " '강백호,홈런',\n",
       " '구자욱,포스 아웃',\n",
       " '강백호,삼진']"
      ]
     },
     "execution_count": 3,
     "metadata": {},
     "output_type": "execute_result"
    }
   ],
   "source": [
    "f = open('pars.csv', 'r', encoding='cp949')\n",
    "lines = [x.strip() for x in f.readlines()][1:]\n",
    "f.close()\n",
    "\n",
    "# 예시 : lines의 첫 10개 출력\n",
    "lines[:10]"
   ]
  },
  {
   "cell_type": "markdown",
   "metadata": {
    "colab_type": "text",
    "id": "BKI769Dms6WN"
   },
   "source": [
    "실제 결과는 다음과 같다.\n",
    "\n",
    "위쪽의 표는 파이썬 데이터 분석용 라이브러리 `Pandas`를 활용한 것이고\n",
    "\n",
    "아래는 단순히 dictionary 형태로 분류한 결과물이다.\n",
    "\n",
    "형식은 자유이니 맘껏 분류해보도록 하자."
   ]
  },
  {
   "cell_type": "markdown",
   "metadata": {
    "colab_type": "text",
    "id": "cw8ZO4V_zbQB"
   },
   "source": [
    "\n",
    "```\n",
    "# 실행결과 1\n",
    "pa_result  볼넷  삼진  포스 아웃  홈런\n",
    "batter\n",
    "강백호        25  33     34   4\n",
    "구자욱        21  37     50   5\n",
    "김현수        23  18     59   4\n",
    "로맥         33  46     34  12\n",
    "박건우        20  12     30   5\n",
    "양의지         9  11     20   4\n",
    "이대호        19  17     47   4\n",
    "이정후        17  20     66   3\n",
    "정은원        13  44     77   3\n",
    "최형우        31  36     47   7\n",
    "\n",
    "# 실행결과 2\n",
    "{'강백호': {'볼넷': 25, '삼진': 33, '포스 아웃': 34, '홈런': 4},\n",
    " '구자욱': {'볼넷': 21, '삼진': 37, '포스 아웃': 50, '홈런': 5},\n",
    " '김현수': {'볼넷': 23, '삼진': 18, '포스 아웃': 59, '홈런': 4},\n",
    " '로맥': {'볼넷': 33, '삼진': 46, '포스 아웃': 34, '홈런': 12},\n",
    " '박건우': {'볼넷': 20, '삼진': 12, '포스 아웃': 30, '홈런': 5},\n",
    " '양의지': {'볼넷': 9, '삼진': 11, '포스 아웃': 20, '홈런': 4},\n",
    " '이대호': {'볼넷': 19, '삼진': 17, '포스 아웃': 47, '홈런': 4},\n",
    " '이정후': {'볼넷': 17, '삼진': 20, '포스 아웃': 66, '홈런': 3},\n",
    " '정은원': {'볼넷': 13, '삼진': 44, '포스 아웃': 77, '홈런': 3},\n",
    " '최형우': {'볼넷': 31, '삼진': 36, '포스 아웃': 47, '홈런': 7}}\n",
    "```"
   ]
  },
  {
   "cell_type": "markdown",
   "metadata": {},
   "source": [
    "### 정답 예시"
   ]
  },
  {
   "cell_type": "code",
   "execution_count": 4,
   "metadata": {},
   "outputs": [
    {
     "data": {
      "text/plain": [
       "{'이대호': {'삼진': 17, '볼넷': 19, '포스 아웃': 47, '홈런': 4},\n",
       " '로맥': {'볼넷': 33, '홈런': 12, '삼진': 46, '포스 아웃': 34},\n",
       " '강백호': {'삼진': 33, '홈런': 4, '포스 아웃': 34, '볼넷': 25},\n",
       " '구자욱': {'포스 아웃': 50, '삼진': 37, '볼넷': 21, '홈런': 5},\n",
       " '박건우': {'볼넷': 20, '포스 아웃': 30, '삼진': 12, '홈런': 5},\n",
       " '정은원': {'포스 아웃': 77, '삼진': 44, '홈런': 3, '볼넷': 13},\n",
       " '이정후': {'포스 아웃': 66, '볼넷': 17, '삼진': 20, '홈런': 3},\n",
       " '양의지': {'삼진': 11, '포스 아웃': 20, '볼넷': 9, '홈런': 4},\n",
       " '최형우': {'삼진': 36, '포스 아웃': 47, '볼넷': 31, '홈런': 7},\n",
       " '김현수': {'포스 아웃': 59, '삼진': 18, '볼넷': 23, '홈런': 4}}"
      ]
     },
     "execution_count": 4,
     "metadata": {},
     "output_type": "execute_result"
    }
   ],
   "source": [
    "pars = {}\n",
    "\n",
    "for l in lines:\n",
    "    b = l.split(',')[0]\n",
    "    r = l.split(',')[1]\n",
    "    \n",
    "    if pars.get(b) is None:\n",
    "        pars[b] = {}\n",
    "    if pars[b].get(r) is None:\n",
    "        pars[b][r] = 1\n",
    "    else:\n",
    "        pars[b][r] += 1\n",
    "\n",
    "pars"
   ]
  }
 ],
 "metadata": {
  "colab": {
   "collapsed_sections": [],
   "include_colab_link": true,
   "name": "Quiz1.ipynb",
   "private_outputs": true,
   "provenance": []
  },
  "kernelspec": {
   "display_name": "Python 3",
   "language": "python",
   "name": "python3"
  },
  "language_info": {
   "codemirror_mode": {
    "name": "ipython",
    "version": 3
   },
   "file_extension": ".py",
   "mimetype": "text/x-python",
   "name": "python",
   "nbconvert_exporter": "python",
   "pygments_lexer": "ipython3",
   "version": "3.7.4"
  }
 },
 "nbformat": 4,
 "nbformat_minor": 1
}
