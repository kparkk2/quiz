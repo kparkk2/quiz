{
  "nbformat": 4,
  "nbformat_minor": 0,
  "metadata": {
    "colab": {
      "name": "Quiz1.ipynb",
      "provenance": [],
      "private_outputs": true,
      "collapsed_sections": [],
      "include_colab_link": true
    },
    "kernelspec": {
      "name": "python3",
      "display_name": "Python 3"
    }
  },
  "cells": [
    {
      "cell_type": "markdown",
      "metadata": {
        "id": "view-in-github",
        "colab_type": "text"
      },
      "source": [
        "<a href=\"https://colab.research.google.com/github/kparkk2/quiz/blob/master/Quiz1.ipynb\" target=\"_parent\"><img src=\"https://colab.research.google.com/assets/colab-badge.svg\" alt=\"Open In Colab\"/></a>"
      ]
    },
    {
      "cell_type": "markdown",
      "metadata": {
        "id": "Vvl57oWh_YhV",
        "colab_type": "text"
      },
      "source": [
        "#1. 피라미드 그리기\n",
        "\n",
        "텍스트로도 간단한 피라미드를 그릴 수 있다. 별모양(*)과 빈칸만 있으면 간단하다.\n",
        "\n",
        "4층짜리 피라미드 예시는 이렇다.\n",
        "\n",
        "```\n",
        "   *\n",
        "  ***\n",
        " *****\n",
        "*******\n",
        "```\n",
        "\n",
        "1층은 별 7개, 2층은 별 5개… 꼭대기는 별 1개로 고정된다.\n",
        "\n",
        "피라미드의 층수가 N으로 주어졌을 때(N>0) N층짜리 피라미드를 출력(print)하는 코드를 만들어보자.\n",
        "\n",
        "코드는 하나의 함수로 완성해야 한다."
      ]
    },
    {
      "cell_type": "markdown",
      "metadata": {
        "id": "s2zQ3G-4BnHs",
        "colab_type": "text"
      },
      "source": [
        "### 코드 예시\n",
        "\n",
        "```\n",
        "def print_pyramid(N):\n",
        "  // 생략\n",
        "```"
      ]
    },
    {
      "cell_type": "markdown",
      "metadata": {
        "id": "8a2MeF3UBd4O",
        "colab_type": "text"
      },
      "source": [
        "### 실행 예시"
      ]
    },
    {
      "cell_type": "markdown",
      "metadata": {
        "id": "g06cpw0Q0Bhg",
        "colab_type": "text"
      },
      "source": [
        "```\n",
        "$ print_pyramid(8)\n",
        "0\t       *       \n",
        "1\t      ***      \n",
        "2\t     *****     \n",
        "3\t    *******    \n",
        "4\t   *********   \n",
        "5\t  ***********  \n",
        "6\t ************* \n",
        "7\t***************\n",
        "```"
      ]
    },
    {
      "cell_type": "code",
      "metadata": {
        "id": "veaJ97-cBP6q",
        "colab_type": "code",
        "colab": {}
      },
      "source": [
        "def print_pyramid(n):\n",
        "    a = 1\n",
        "    b = \" \"\n",
        "    for i in range(1,n+1):\n",
        "        print(b*(n-i),\"*\"*a,b*(n-i))\n",
        "        a +=2\n",
        "print_pyramid(4)"
      ],
      "execution_count": null,
      "outputs": []
    },
    {
      "cell_type": "code",
      "metadata": {
        "id": "v7h3ikTgEQWE",
        "colab_type": "code",
        "colab": {}
      },
      "source": [
        ""
      ],
      "execution_count": null,
      "outputs": []
    },
    {
      "cell_type": "markdown",
      "metadata": {
        "id": "HZfv7MffBuFO",
        "colab_type": "text"
      },
      "source": [
        "# 2. 피보나치 수열 구하기\n",
        "\n",
        "피보나치 수열은 0, 1, 1, 2, 3, 5, 8, 13, 21, …와 같은 순서로 진행된다.\n",
        "\n",
        "이 수열에는 일정한 법칙이 있는데, 다음과 같은 식으로 나타낼 수 있다.\n",
        "\n",
        "\\begin{equation}\n",
        "F_0 = 0\\\\\n",
        "F_1 = 1\\\\\n",
        "F_n = F_{n-1} + F_{n-2} \\ (n \\geq 2)\n",
        "\\end{equation}\n",
        "\n",
        "즉 n번째 숫자는 n-1번째 수와 n-2번째 수를 더한 값이 된다.\n",
        "\n",
        "이제 N번째 피보나치 수를 구하는 함수를 직접 작성해보자.\n",
        "\n",
        "확인을 위해 F<sub>30</sub>을 구해볼 것. 정답은 832040이다."
      ]
    },
    {
      "cell_type": "markdown",
      "metadata": {
        "id": "VSKq5gusCT4U",
        "colab_type": "text"
      },
      "source": [
        "### 실행 예시"
      ]
    },
    {
      "cell_type": "code",
      "metadata": {
        "id": "o3LjBnKwCVFn",
        "colab_type": "code",
        "colab": {}
      },
      "source": [
        "fibo(30)"
      ],
      "execution_count": null,
      "outputs": []
    },
    {
      "cell_type": "code",
      "metadata": {
        "id": "mzHOlEOm0AjR",
        "colab_type": "code",
        "colab": {}
      },
      "source": [
        ""
      ],
      "execution_count": null,
      "outputs": []
    },
    {
      "cell_type": "markdown",
      "metadata": {
        "id": "Lf8E84APo_sw",
        "colab_type": "text"
      },
      "source": [
        "# 3. 선수 이름, 결과 분류\n",
        "\n",
        "#### __* Dictionary, List,for loop까지 익힌 뒤에 하는 것을 추천__\n",
        "\n",
        "야구 문자 중계 텍스트를 읽어오고 분류하다보면, 타석 결과 텍스트를 읽고 판독하는 경우가 잦다.\n",
        "\n",
        "흔히 볼 수 있는 타석 결과 텍스트는 'OOO : 안타' 와 같은 것이다.\n",
        "\n",
        "당장은 어렵겠지만 먼 훗날(?) 이렇게 정리된 데이터를 직접 분류할 때가 온다고 상상해보며 간단한 예제를 수행해보자.\n",
        "\n",
        "아래 주어진 데이터는 `'선수 이름, 결과'` 형식으로 된 일련의 문자열 리스트다.\n",
        "\n",
        "이 리스트를 읽고 타석 결과를 선수 이름에 따라 묶고, 선수 별로 타석 결과가 몇 번씩 나오는지 직접 세어보자."
      ]
    },
    {
      "cell_type": "markdown",
      "metadata": {
        "id": "qYB80qcIp58e",
        "colab_type": "text"
      },
      "source": [
        "### 데이터 다운로드\n",
        "\n",
        "아래 두 코드 셀을 실행하면 `lines`라는 리스트에 결과 값이 들어간다."
      ]
    },
    {
      "cell_type": "code",
      "metadata": {
        "id": "f8U3ZIdRDMOe",
        "colab_type": "code",
        "colab": {}
      },
      "source": [
        "!wget https://raw.githubusercontent.com/kparkk2/quiz/master/pars.csv"
      ],
      "execution_count": null,
      "outputs": []
    },
    {
      "cell_type": "code",
      "metadata": {
        "id": "kPv2IOFADOIR",
        "colab_type": "code",
        "colab": {}
      },
      "source": [
        "f = open('pars.csv', 'r', encoding='cp949')\n",
        "lines = [x.strip() for x in f.readlines()][1:]\n",
        "f.close()\n",
        "\n",
        "# 예시 : lines의 첫 10개 출력\n",
        "lines[:10]"
      ],
      "execution_count": null,
      "outputs": []
    },
    {
      "cell_type": "markdown",
      "metadata": {
        "id": "BKI769Dms6WN",
        "colab_type": "text"
      },
      "source": [
        "실제 결과는 다음과 같다.\n",
        "\n",
        "위쪽의 표는 파이썬 데이터 분석용 라이브러리 `Pandas`를 활용한 것이고\n",
        "\n",
        "아래는 단순히 dictionary 형태로 분류한 결과물이다.\n",
        "\n",
        "형식은 자유이니 맘껏 분류해보도록 하자."
      ]
    },
    {
      "cell_type": "markdown",
      "metadata": {
        "id": "cw8ZO4V_zbQB",
        "colab_type": "text"
      },
      "source": [
        "\n",
        "```\n",
        "# 실행결과 1\n",
        "pa_result  볼넷  삼진  포스 아웃  홈런\n",
        "batter\n",
        "강백호        25  33     34   4\n",
        "구자욱        21  37     50   5\n",
        "김현수        23  18     59   4\n",
        "로맥         33  46     34  12\n",
        "박건우        20  12     30   5\n",
        "양의지         9  11     20   4\n",
        "이대호        19  17     47   4\n",
        "이정후        17  20     66   3\n",
        "정은원        13  44     77   3\n",
        "최형우        31  36     47   7\n",
        "\n",
        "# 실행결과 2\n",
        "{'강백호': {'볼넷': 25, '삼진': 33, '포스 아웃': 34, '홈런': 4},\n",
        " '구자욱': {'볼넷': 21, '삼진': 37, '포스 아웃': 50, '홈런': 5},\n",
        " '김현수': {'볼넷': 23, '삼진': 18, '포스 아웃': 59, '홈런': 4},\n",
        " '로맥': {'볼넷': 33, '삼진': 46, '포스 아웃': 34, '홈런': 12},\n",
        " '박건우': {'볼넷': 20, '삼진': 12, '포스 아웃': 30, '홈런': 5},\n",
        " '양의지': {'볼넷': 9, '삼진': 11, '포스 아웃': 20, '홈런': 4},\n",
        " '이대호': {'볼넷': 19, '삼진': 17, '포스 아웃': 47, '홈런': 4},\n",
        " '이정후': {'볼넷': 17, '삼진': 20, '포스 아웃': 66, '홈런': 3},\n",
        " '정은원': {'볼넷': 13, '삼진': 44, '포스 아웃': 77, '홈런': 3},\n",
        " '최형우': {'볼넷': 31, '삼진': 36, '포스 아웃': 47, '홈런': 7}}\n",
        "```"
      ]
    }
  ]
}